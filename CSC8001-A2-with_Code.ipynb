{
 "cells": [
  {
   "cell_type": "markdown",
   "metadata": {},
   "source": [
    "# CSC8001: Assignment 2  (30%) [100 marks]"
   ]
  },
  {
   "cell_type": "markdown",
   "metadata": {},
   "source": [
    "<img src=\"data/CitiBike_Logo_p.svg\" width=225 height=100 align=left style=\"padding-right: 20px; padding-bottom: 20px;\" />\n",
    "\n",
    "New York City's Citi Bike program has 10,000 bikes and 600 stations across Manhattan, Brooklyn, Queens and Jersey City. It was designed for quick trips with convenience in mind, and provides a fun and affordable way for visitors and locals to get around New York City.\n",
    "\n",
    "For this assignment, you will be analysing a dataset from the [**Citi Bike Trip Histories**](https://www.citibikenyc.com/system-data) data. The data file <sup>1</sup> is available in the assignments data folder on the course StudyDesk.  \n",
    "\n",
    "As part of your analysis, you will be coding various functions. In addition to including the necessary code, be sure to **add useful comments** to your functions to explain what your code is doing and why.  Comments are most useful when they document non-obvious features of the code. It is reasonable to assume that the reader can figure out *what* the code does; it is more useful to explain *why*.  Comments were discussed in notebook *1.1 Intro Python 3*.\n",
    "\n",
    "**Citi Bike Trip Histories** data includes:\n",
    "- Trip Duration (seconds)\n",
    "- Start Time and Date\n",
    "- Stop Time and Date\n",
    "- Start Station ID\n",
    "- Start Station Name\n",
    "- End Station Name\n",
    "- End Station ID\n",
    "- Station Lat/Long\n",
    "- Bike ID\n",
    "- User Type (Customer = 24-hour pass or 7-day pass user; Subscriber = Annual Member)\n",
    "- Gender (Zero=unknown; 1=male; 2=female)\n",
    "- Year of Birth\n",
    "\n",
    "<sup>1</sup>Citi bike data is provided according to the [NYCBS Data Use Policy](https://www.citibikenyc.com/data-sharing-policy)."
   ]
  },
  {
   "cell_type": "code",
   "execution_count": null,
   "metadata": {
    "collapsed": true
   },
   "outputs": [],
   "source": [
    "# Load required modules for notebook\n",
    "import pandas as pd\n",
    "import numpy as np\n",
    "\n",
    "from datetime import datetime\n",
    "from dateutil import parser\n",
    "\n",
    "# Display all plots inline using the\n",
    "%matplotlib inline\n",
    "import seaborn; seaborn.set()\n",
    "import matplotlib.pyplot as plt\n",
    "\n",
    "import os"
   ]
  },
  {
   "cell_type": "markdown",
   "metadata": {},
   "source": [
    "## Load the data set   [5 marks]\n",
    "Load the Citi Bike data set provided:\n",
    "- Load the data set into a DataFrame called `rides`.  \n",
    "- Set the `starttime` column as the index and remember to parse the dates.\n",
    "- Rename the `usertype` column to `User Type`.\n",
    "\n",
    "**NOTE**: The data set may take a few minutes to load."
   ]
  },
  {
   "cell_type": "code",
   "execution_count": null,
   "metadata": {},
   "outputs": [],
   "source": [
    "## Load Citi Bike Tripdata \n",
    "rides = pd.read_csv(\"201507-citibike-tripdata.csv\", low_memory=False)                        # without parse_dates\n",
    "\n",
    "# Set Column Name\n",
    "rides.columns = ['tripduration', 'starttime', 'stoptime', 'start station id', 'start station name', 'start station latitude', 'start station longitude',\n",
    "                 'end station id', 'end station name', 'end station latitude', 'end station longitude', 'bikeid', 'User Type', 'birth year', 'gender']\n",
    "\n",
    "# Rename Column Name\n",
    "rides.rename(columns={'usertype': 'User Type'})\n",
    "\n",
    "\n",
    "# Set StartTime as index\n",
    "rides.set_index('starttime')\n"
   ]
  },
  {
   "cell_type": "markdown",
   "metadata": {},
   "source": [
    "## Exploring Data \n",
    "Let's get familiar with the data set by asking it some questions.  \n",
    "\n",
    "### Most popular stations for all riders [5 marks]\n",
    "Each ride starts and ends at a bike sharing station. What are the five (5) most popular stations to end a trip? <br>Function `a1()` should return a Series object indexed by station names in descending order of popularity.  "
   ]
  },
  {
   "cell_type": "code",
   "execution_count": null,
   "metadata": {
    "collapsed": true
   },
   "outputs": [],
   "source": [
    "def a1(rides):\n",
    "    \"\"\" YOUR CODE AND COMMENTS HERE \"\"\"\n",
    "    five_popular_station_end_trip = rides['end station name'].value_counts().head()\n",
    "    return five_popular_station_end_trip"
   ]
  },
  {
   "cell_type": "code",
   "execution_count": null,
   "metadata": {},
   "outputs": [],
   "source": [
    "a1(rides)"
   ]
  },
  {
   "cell_type": "markdown",
   "metadata": {},
   "source": [
    "### Most popular stations for Customers [5 marks]\n",
    "What are the five (5) most popular destinations for Customers? <br>Function `a2()` should return a Series object indexed by station names in descending order of popularity.  "
   ]
  },
  {
   "cell_type": "code",
   "execution_count": null,
   "metadata": {
    "collapsed": true
   },
   "outputs": [],
   "source": [
    "def a2(rides):\n",
    "    \"\"\" YOUR CODE AND COMMENTS HERE \"\"\"\n",
    "    df1 = rides[rides['User Type'] == 'Customer']       # set df as Customer user type\n",
    "    five_popular_station_customers = df1['end station name'].value_counts().head()  # count 5 most popular station name\n",
    "    return five_popular_station_customers"
   ]
  },
  {
   "cell_type": "code",
   "execution_count": null,
   "metadata": {},
   "outputs": [],
   "source": [
    "a2(rides)"
   ]
  },
  {
   "cell_type": "markdown",
   "metadata": {},
   "source": [
    "### Visiting Central Park [5 marks]\n",
    "Central Park is a big draw for tourists.  How many *Customer* rides end at a **Central Park** bike sharing station?  <br>Function `a3()` should return a Series object indexed by station names in descending order of popularity. <br><br>NOTE: Many station names indicate that the station is located at the intersection of two streets: **E 17 St & Broadway** or **Broadway & E 14 St**.  Your answer should include any end station whose name contains *Central Park*. "
   ]
  },
  {
   "cell_type": "code",
   "execution_count": null,
   "metadata": {
    "collapsed": true
   },
   "outputs": [],
   "source": [
    "def a3(rides):\n",
    "    \"\"\" YOUR CODE AND COMMENTS HERE \"\"\"\n",
    "    df1 = rides[rides['User Type'] == 'Customer']\n",
    "    mask = df1['end station name'].str.contains('Central Park')     # mast end station name with Central park\n",
    "    central_park_total_rides = df1.loc[mask, 'end station name'].value_counts()    # count total rides\n",
    "    return central_park_total_rides"
   ]
  },
  {
   "cell_type": "code",
   "execution_count": null,
   "metadata": {},
   "outputs": [],
   "source": [
    "a3(rides)"
   ]
  },
  {
   "cell_type": "markdown",
   "metadata": {},
   "source": [
    "### Average trip duration for Subscribers [5 marks]\n",
    "Many subscribers use the Citi Bikes to commute to work.  What is the mean trip duration for Subscribers on any workday (Monday - Friday)? <br>Function `a4()` should return the mean value (float to two decimals). "
   ]
  },
  {
   "cell_type": "code",
   "execution_count": null,
   "metadata": {
    "collapsed": true
   },
   "outputs": [],
   "source": [
    "def a4(rides):\n",
    "    \"\"\" YOUR CODE AND COMMENTS HERE \"\"\"\n",
    "    rides['starttime'] = pd.to_datetime(rides['starttime'], infer_datetime_format=True)     # parse starttime object to datetime\n",
    "      \n",
    "    m = (rides['starttime'].dt.dayofweek < 5) & (rides['User Type'] == 'Subscriber')    # count rides between weekdays and user is Subscriber\n",
    "    mean_trip_duration = round(rides.loc[m, 'tripduration'].mean(), 2)  # count mean value and round it to 2 digit\n",
    "\n",
    "    return mean_trip_duration\n"
   ]
  },
  {
   "cell_type": "code",
   "execution_count": null,
   "metadata": {},
   "outputs": [],
   "source": [
    "a4(rides)"
   ]
  },
  {
   "cell_type": "markdown",
   "metadata": {},
   "source": [
    "### Longest trip duration of any rider [5 marks]\n",
    "What is the longest trip duration for any rider?  <br>Function a5() should return an integer. "
   ]
  },
  {
   "cell_type": "code",
   "execution_count": null,
   "metadata": {
    "collapsed": true
   },
   "outputs": [],
   "source": [
    "def a5(rides):\n",
    "    \"\"\" YOUR CODE AND COMMENTS HERE \"\"\"\n",
    "    return rides['tripduration'].max()  # tripduration max value"
   ]
  },
  {
   "cell_type": "code",
   "execution_count": null,
   "metadata": {},
   "outputs": [],
   "source": [
    "a5(rides)"
   ]
  },
  {
   "cell_type": "markdown",
   "metadata": {},
   "source": [
    "### What is the breakdown of the rides in our data set by user type? [5 marks]\n",
    "How many of the rides in our data set are for Customers and how many for Subscribers? \n",
    "<br>Function `a6()` should return a Series object indexed by the rider type."
   ]
  },
  {
   "cell_type": "code",
   "execution_count": null,
   "metadata": {
    "collapsed": true
   },
   "outputs": [],
   "source": [
    "def a6(rides):\n",
    "    \"\"\" YOUR CODE AND COMMENTS HERE \"\"\"\n",
    "    df1 = rides.groupby('User Type')  # group rides by Usaer Type\n",
    "    return df1['User Type'].value_counts()  # Count values of Customers & Subscribers"
   ]
  },
  {
   "cell_type": "code",
   "execution_count": null,
   "metadata": {},
   "outputs": [],
   "source": [
    "a6(rides)"
   ]
  },
  {
   "cell_type": "markdown",
   "metadata": {},
   "source": [
    "## Weekday usage [10 marks]\n",
    "\n",
    "Does Citi Bike rider usage vary by the day of the week?  Are there some day's of the week  which have more Citi Bike trips?  Is their a difference in usage between Customers and Subscribers? \n",
    "\n",
    "- Create a pandas DataFrame with the number of rides by User Type for each day of the week.  Use  `starttime` to determine the rides week day.  Your DataFrame should be similar to the one show below, but your data values will vary.\n",
    "\n",
    "User Type<br>Week Day |\tCustomer<br>&nbsp; |\tSubscriber<br>&nbsp;\n",
    "---: | ---: | ---:\n",
    "0  |\t    1679  |\t53569\n",
    "1  |\t\t1222  |\t\t59323\n",
    "2  |\t\t1765  |\t\t74118\n",
    "3  |\t\t1981  |\t\t85190\n",
    "4  |\t\t5403  |\t\t99728\n",
    "5  |\t\t7004  |\t60580\n",
    "6  |\t\t5489  |\t\t52427"
   ]
  },
  {
   "cell_type": "code",
   "execution_count": null,
   "metadata": {
    "collapsed": true
   },
   "outputs": [],
   "source": [
    "def a7(rides):\n",
    "    \"\"\" YOUR CODE AND COMMENTS HERE \"\"\"\n",
    "    rides['starttime'] = pd.to_datetime(rides['starttime'], infer_datetime_format=True)\n",
    "\n",
    "    cats = ['Mon', 'Tue', 'Wed', 'Thu', 'Fri', 'Sat', 'Sun']\n",
    "    days = pd.Categorical(rides.starttime.dt.strftime('%a'), categories=cats, ordered=True)\n",
    "\n",
    "    df = rides\n",
    "\n",
    "    df = rides.groupby([days, 'User Type']).size().unstack(fill_value=0)\n",
    "    return df"
   ]
  },
  {
   "cell_type": "code",
   "execution_count": null,
   "metadata": {},
   "outputs": [],
   "source": [
    "a7(rides)"
   ]
  },
  {
   "cell_type": "markdown",
   "metadata": {},
   "source": [
    "## Plotting weekday rider usage [10 marks]\n",
    "\n",
    "Provide a plot which shows the weekday usage pattern by user type.  Include a plot line for All weekday rides.\n",
    "\n",
    "Your plot should be similar to the example below but your values will vary.\n",
    "\n",
    "<img src=\"data/plt-day_of_week.png\" width=524 height=343 align=center style=\"padding-right: 20px; padding-bottom: 20px;\" />"
   ]
  },
  {
   "cell_type": "code",
   "execution_count": null,
   "metadata": {
    "collapsed": true
   },
   "outputs": [],
   "source": [
    "def a8(rides):\n",
    "    \"\"\" YOUR CODE AND COMMENTS HERE \"\"\"\n",
    "    rides['starttime'] = pd.to_datetime(rides['starttime'], infer_datetime_format=True)\n",
    "\n",
    "    cats = ['Mon', 'Tue', 'Wed', 'Thu', 'Fri', 'Sat', 'Sun']\n",
    "    days = pd.Categorical(rides.starttime.dt.strftime('%a'), categories=cats, ordered=True)\n",
    "\n",
    "    df = rides\n",
    "    df = rides.groupby([days, 'User Type']).size().unstack(fill_value=0).assign(All=lambda x: x.sum(1))\n",
    "    # Plot Graph\n",
    "    y_label = 'Daily Rides by User Types'\n",
    "    x_label = 'Days of the Week'\n",
    "    title = 'Number of Rides by User Types and Week Day'\n",
    "    ax = df.plot()\n",
    "    ax.set_ylabel(y_label)\n",
    "    ax.set_xlabel(x_label)\n",
    "    ax.set_title(title)\n",
    "    plt.show()\n",
    "    "
   ]
  },
  {
   "cell_type": "code",
   "execution_count": null,
   "metadata": {},
   "outputs": [],
   "source": [
    "a8(rides)"
   ]
  },
  {
   "cell_type": "markdown",
   "metadata": {},
   "source": [
    "## Time of day usage [10 marks]\n",
    "What does the rider usage look like as a function of the time of day?  \n",
    "\n",
    "- Create a pandas DataFrame with the number of rides by User Type for each hour of the day. Use starttime to determine each ride's hour. Your DataFrame should be similar to the one show below, but your data values will vary.\n",
    "\n",
    "User Type<br>Hour |\tCustomer<br>&nbsp; |\tSubscriber<br>&nbsp;\n",
    "---: | ---: | ---:\n",
    "0  | \t276  | \t4073\n",
    "1  | \t202  | \t2460\n",
    "2  | \t98  | \t1434\n",
    "3  | \t64  | \t951\n",
    "4  | \t54  | \t1010\n",
    "5  | \t37  | \t3280\n",
    "... | ... | ...\n"
   ]
  },
  {
   "cell_type": "code",
   "execution_count": null,
   "metadata": {
    "collapsed": true
   },
   "outputs": [],
   "source": [
    "def a9(rides):\n",
    "    \"\"\" YOUR CODE AND COMMENTS HERE \"\"\"\n",
    "    rides['starttime'] = pd.to_datetime(rides['starttime'], infer_datetime_format=True)\n",
    "    df = pd.crosstab(rides.starttime.dt.hour, rides['User Type'])\n",
    "    return df\n"
   ]
  },
  {
   "cell_type": "code",
   "execution_count": null,
   "metadata": {},
   "outputs": [],
   "source": [
    "a9(rides)"
   ]
  },
  {
   "cell_type": "markdown",
   "metadata": {},
   "source": [
    "## Plotting time of day usage [10 marks]\n",
    "\n",
    "Provide a plot which shows the time of day  usage pattern by user type.  Include a plot line for All hourly rides.\n",
    "\n",
    "Your plot should be similar to the example below but your values will vary.\n",
    "\n",
    "<img src=\"data/plt-hour_of_day.png\" width=509 height=357 align=left style=\"padding-right: 20px; padding-bottom: 20px;\" />"
   ]
  },
  {
   "cell_type": "code",
   "execution_count": null,
   "metadata": {
    "collapsed": true
   },
   "outputs": [],
   "source": [
    "def a10(rides):\n",
    "    \"\"\" YOUR CODE AND COMMENTS HERE \"\"\"\n",
    "    rides['starttime'] = pd.to_datetime(rides['starttime'], infer_datetime_format=True)\n",
    "    cats = ['12 AM', '01 AM', '02 AM', '03 AM', '04 AM', '05 AM', '06 AM', '07 AM', '08 AM', '09 AM', '10 AM', '11 AM', '12 PM', '01 PM', '02 PM', '03 PM', '04 PM', '05 PM', '06 PM', '07 PM', '08 PM', '09 PM', '10 PM', '11 PM']\n",
    "    dates = pd.Categorical(rides.starttime.dt.strftime('%I %p'), categories=cats, ordered=True)\n",
    "    df = pd.crosstab(dates, rides['User Type']).assign(All=lambda x: x.sum(1))\n",
    "\n",
    "    ax = df.plot()\n",
    "    ax.set_ylabel('Hourly Rides by User Types')\n",
    "    ax.set_xlabel('Hours of the Day')\n",
    "    ax.set_title('Number of Rides by User Types and Hour')\n",
    "    plt.show()"
   ]
  },
  {
   "cell_type": "code",
   "execution_count": null,
   "metadata": {},
   "outputs": [],
   "source": [
    "a10(rides)\n"
   ]
  },
  {
   "cell_type": "markdown",
   "metadata": {},
   "source": [
    "## Workdays vs Weekends [15 marks]\n",
    "Hourly traffic seems to be very bimodal for Subscribers.  It peaks around 8:00 in the morning and then again around 5:00 at night.\n",
    "\n",
    "- Create a pandas DataFrame with the number of rides by  Hour and User Type for Workdays and Weekends. Use starttime to determine each ride's hour. Your DataFrame should be similar to the one show below, but your data values will vary.\n",
    "\n",
    "&nbsp;<br>&nbsp; | User Type<br>Hour |\tCustomer<br>&nbsp; |\tSubscriber<br>&nbsp;\n",
    "---: | ---: | ---: | ---:\n",
    "Weekday | 0  | \t124  | \t2194\n",
    "&nbsp; | 1  | \t120  | \t1238\n",
    "&nbsp; | 2  | \t53  | \t716\n",
    "&nbsp; | 3  | \t30  | \t520\n",
    ".... | .... | .... | ....\n",
    "Weekend | 0  | \t152  | \t1879\n",
    "&nbsp; | 1  | \t82  | \t1222\n",
    "&nbsp; | 2  | \t45  | \t718\n",
    "&nbsp; | 3  | \t34  | \t431\n",
    "&nbsp; | 4  | \t29  | \t288\n",
    ".... | .... | .... | ....\n"
   ]
  },
  {
   "cell_type": "code",
   "execution_count": null,
   "metadata": {
    "collapsed": true
   },
   "outputs": [],
   "source": [
    "def a11():\n",
    "    \"\"\" YOUR CODE AND COMMENTS HERE \"\"\"\n"
   ]
  },
  {
   "cell_type": "code",
   "execution_count": null,
   "metadata": {
    "collapsed": true
   },
   "outputs": [],
   "source": [
    "a11()"
   ]
  },
  {
   "cell_type": "markdown",
   "metadata": {},
   "source": [
    "## Plotting workdays vs weekends [10 marks]\n",
    "\n",
    "Provide a plot which shows the number of rides by Hour and User Type.  One plot for Workdays and the second for Weekends.\n",
    "Include a plot line for All hourly rides.  Your plots should be similar to the example below but your values will vary.\n",
    "\n",
    "<div style=\"float: left; \"><img src=\"data/plt-weekday-rides.png\" width=509 height=357 style=\"padding: 5px; \"/></div>\n",
    "<div style=\"float: left; \"><img src=\"data/plt-weekend-rides.png\" width=509 height=357  style=\"padding: 5px; \"/></div>"
   ]
  },
  {
   "cell_type": "code",
   "execution_count": null,
   "metadata": {
    "collapsed": true
   },
   "outputs": [],
   "source": [
    "def a12():\n",
    "    \"\"\" YOUR CODE AND COMMENTS HERE \"\"\"\n"
   ]
  },
  {
   "cell_type": "code",
   "execution_count": null,
   "metadata": {
    "collapsed": true
   },
   "outputs": [],
   "source": [
    "a12()"
   ]
  }
 ],
 "metadata": {
  "kernelspec": {
   "display_name": "Python 2",
   "language": "python",
   "name": "python2"
  },
  "language_info": {
   "codemirror_mode": {
    "name": "ipython",
    "version": 2
   },
   "file_extension": ".py",
   "mimetype": "text/x-python",
   "name": "python",
   "nbconvert_exporter": "python",
   "pygments_lexer": "ipython2",
   "version": "2.7.13"
  }
 },
 "nbformat": 4,
 "nbformat_minor": 2
}
